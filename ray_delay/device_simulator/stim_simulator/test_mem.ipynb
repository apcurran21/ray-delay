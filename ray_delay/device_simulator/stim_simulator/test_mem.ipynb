{
 "cells": [
  {
   "cell_type": "code",
   "execution_count": 1,
   "metadata": {},
   "outputs": [],
   "source": [
    "import sys\n",
    "sys.path.append('../../..')\n",
    "from ray_delay.device_simulator.stim_simulator.patch import SurfaceCodePatch\n",
    "from ray_delay.device_simulator.stim_simulator.memory import MemoryPatch\n",
    "from ray_delay.device_simulator.noise_model_patch import NoiseModelPatch"
   ]
  },
  {
   "cell_type": "code",
   "execution_count": 2,
   "metadata": {},
   "outputs": [],
   "source": [
    "m = NoiseModelPatch(MemoryPatch(7,3,5))"
   ]
  },
  {
   "cell_type": "code",
   "execution_count": 3,
   "metadata": {},
   "outputs": [
    {
     "data": {
      "text/plain": [
       "(0.022526, 10000000)"
      ]
     },
     "execution_count": 3,
     "metadata": {},
     "output_type": "execute_result"
    }
   ],
   "source": [
    "m.patch.count_logical_errors(observable_basis='X')"
   ]
  },
  {
   "cell_type": "code",
   "execution_count": 4,
   "metadata": {},
   "outputs": [
    {
     "data": {
      "text/plain": [
       "(2.2e-06, 10000000)"
      ]
     },
     "execution_count": 4,
     "metadata": {},
     "output_type": "execute_result"
    }
   ],
   "source": [
    "m.patch.count_logical_errors(observable_basis='Z')"
   ]
  },
  {
   "cell_type": "code",
   "execution_count": 5,
   "metadata": {},
   "outputs": [
    {
     "data": {
      "text/plain": [
       "------------------------------------\n",
       "|    |    |\u001b[0;34mX 21\u001b[1;37;0m|    |    |    |    |\n",
       "----------+----+--------------------\n",
       "|    |\u001b[1;37;48m   0\u001b[1;37;0m|    |\u001b[1;37;48m   1\u001b[1;37;0m|    |\u001b[1;37;48m   2\u001b[1;37;0m|    |\n",
       "----------+----+----+----+----+-----\n",
       "|    |    |\u001b[0;31mZ 22\u001b[1;37;0m|    |\u001b[0;34mX 23\u001b[1;37;0m|    |\u001b[0;31mZ 24\u001b[1;37;0m|\n",
       "----------+----+----+----+----+-----\n",
       "|    |\u001b[1;37;48m   3\u001b[1;37;0m|    |\u001b[1;37;48m   4\u001b[1;37;0m|    |\u001b[1;37;48m   5\u001b[1;37;0m|    |\n",
       "-----+----+----+----+----+----------\n",
       "|\u001b[0;31mZ 25\u001b[1;37;0m|    |\u001b[0;34mX 26\u001b[1;37;0m|    |\u001b[0;31mZ 27\u001b[1;37;0m|    |    |\n",
       "-----+----+----+----+----+----------\n",
       "|    |\u001b[1;37;48m   6\u001b[1;37;0m|    |\u001b[1;37;48m   7\u001b[1;37;0m|    |\u001b[1;37;48m   8\u001b[1;37;0m|    |\n",
       "----------+----+----+----+----+-----\n",
       "|    |    |\u001b[0;31mZ 28\u001b[1;37;0m|    |\u001b[0;34mX 29\u001b[1;37;0m|    |\u001b[0;31mZ 30\u001b[1;37;0m|\n",
       "----------+----+----+----+----+-----\n",
       "|    |\u001b[1;37;48mL  9\u001b[1;37;0m|    |\u001b[1;37;48mL 10\u001b[1;37;0m|    |\u001b[1;37;48mL 11\u001b[1;37;0m|    |\n",
       "-----+----+----+----+----+----------\n",
       "|\u001b[0;31mZ 31\u001b[1;37;0m|    |\u001b[0;34mX 32\u001b[1;37;0m|    |\u001b[0;31mZ 33\u001b[1;37;0m|    |    |\n",
       "-----+----+----+----+----+----------\n",
       "|    |\u001b[1;37;48m  12\u001b[1;37;0m|    |\u001b[1;37;48m  13\u001b[1;37;0m|    |\u001b[1;37;48m  14\u001b[1;37;0m|    |\n",
       "----------+----+----+----+----+-----\n",
       "|    |    |\u001b[0;31mZ 34\u001b[1;37;0m|    |\u001b[0;34mX 35\u001b[1;37;0m|    |\u001b[0;31mZ 36\u001b[1;37;0m|\n",
       "----------+----+----+----+----+-----\n",
       "|    |\u001b[1;37;48m  15\u001b[1;37;0m|    |\u001b[1;37;48m  16\u001b[1;37;0m|    |\u001b[1;37;48m  17\u001b[1;37;0m|    |\n",
       "-----+----+----+----+----+----------\n",
       "|\u001b[0;31mZ 37\u001b[1;37;0m|    |\u001b[0;34mX 38\u001b[1;37;0m|    |\u001b[0;31mZ 39\u001b[1;37;0m|    |    |\n",
       "-----+----+----+----+----+----------\n",
       "|    |\u001b[1;37;48m  18\u001b[1;37;0m|    |\u001b[1;37;48m  19\u001b[1;37;0m|    |\u001b[1;37;48m  20\u001b[1;37;0m|    |\n",
       "--------------------+----+----------\n",
       "|    |    |    |    |\u001b[0;34mX 40\u001b[1;37;0m|    |    |\n",
       "------------------------------------"
      ]
     },
     "execution_count": 5,
     "metadata": {},
     "output_type": "execute_result"
    }
   ],
   "source": [
    "m.patch"
   ]
  },
  {
   "cell_type": "code",
   "execution_count": null,
   "metadata": {},
   "outputs": [],
   "source": []
  }
 ],
 "metadata": {
  "kernelspec": {
   "display_name": "ray-delay-d6L5TIhe",
   "language": "python",
   "name": "python3"
  },
  "language_info": {
   "codemirror_mode": {
    "name": "ipython",
    "version": 3
   },
   "file_extension": ".py",
   "mimetype": "text/x-python",
   "name": "python",
   "nbconvert_exporter": "python",
   "pygments_lexer": "ipython3",
   "version": "3.10.11"
  }
 },
 "nbformat": 4,
 "nbformat_minor": 2
}
