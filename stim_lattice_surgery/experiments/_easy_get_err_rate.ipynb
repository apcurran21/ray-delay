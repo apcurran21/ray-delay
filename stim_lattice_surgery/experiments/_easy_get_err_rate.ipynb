{
 "cells": [
  {
   "cell_type": "code",
   "execution_count": 1,
   "metadata": {},
   "outputs": [],
   "source": [
    "import sys\n",
    "sys.path.append('../../')\n",
    "sys.path.append('../../ray-delay')\n",
    "from stim_surface_code.patch import SurfaceCodePatch\n",
    "from stim_surface_code.memory import MemoryPatch\n",
    "from stim_lattice_surgery.lattice_surgery.zxxz_patch import ZXXZPatch\n",
    "from stim_lattice_surgery.lattice_surgery.glue import GluePatch, BoundaryType\n",
    "from stim_lattice_surgery.lattice_surgery.surgery_op import SurgeryOp\n",
    "from ray_delay.noise_model_patch import NoiseModelPatch\n",
    "from ray_delay.noise_model import GoogleNoiseParamsNoRandomRays\n",
    "import numpy as np\n",
    "\n",
    "import sinter\n",
    "import matplotlib.pyplot as plt"
   ]
  },
  {
   "cell_type": "code",
   "execution_count": 2,
   "metadata": {},
   "outputs": [],
   "source": [
    "def get_many_circ_code(d_range, p_range, init_basis, observable_basis, meas_mode):\n",
    "    tasks = []\n",
    "    for d in d_range:\n",
    "        patch1 = ZXXZPatch(d, d, d, id_offset=0)\n",
    "        patch2 = ZXXZPatch(d, d, d, id_offset=2*d**2 - 1)\n",
    "        zz_op = SurgeryOp([patch1, patch2], [], [(patch1, BoundaryType.TOP, patch2, BoundaryType.BOTTOM, 4*d**2 - 2)])\n",
    "        \n",
    "        for p in p_range:\n",
    "            noise_params = GoogleNoiseParamsNoRandomRays.improve(10)\n",
    "            noise_params.error_means = {'T1': 1, 'T2': 1, 'readout_err': p, 'gate1_err': p, 'gate2_err': p, 'erasure':0}\n",
    "            cosmic_noise = NoiseModelPatch(zz_op.patch_collection, noise_params)\n",
    "            # print(zz_op.patch_collection.error_vals['gate1_err'][0])\n",
    "            circ = zz_op.get_stim(init_basis=init_basis, observable_basis=observable_basis, meas_mode=meas_mode, expect_bell=True)\n",
    "            \n",
    "            tasks.append(sinter.Task(circuit=circ, json_metadata={'p': p, 'd': int(d), 'meas_mode': meas_mode, 'init_basis': init_basis, 'observable_basis': observable_basis}))\n",
    "    return tasks\n",
    "\n",
    "def get_all_xxtl_code(d_range, p_range):\n",
    "    return get_many_circ_code(d_range, p_range, \"Z\", \"Z\", \"01TL\")\n",
    "\n",
    "def get_all_zl_code(d_range, p_range):\n",
    "    return get_many_circ_code(d_range, p_range, \"X\", \"X\", \"\")\n"
   ]
  },
  {
   "cell_type": "code",
   "execution_count": 3,
   "metadata": {},
   "outputs": [],
   "source": [
    "def produce_results(d_range, p_range):\n",
    "    xxtl_circs = get_all_xxtl_code(d_range, p_range)\n",
    "    zl_circs = get_all_zl_code(d_range, p_range)\n",
    "    circs = xxtl_circs + zl_circs\n",
    "    \n",
    "    print(f\"Running {len(circs)} circuits\")\n",
    "    \n",
    "    results = sinter.collect(\n",
    "        num_workers=4,\n",
    "        max_shots=10_000_000,\n",
    "        max_errors=100,\n",
    "        tasks=circs,\n",
    "        decoders=['pymatching'],\n",
    "        count_observable_error_combos=True,\n",
    "    )\n",
    "    return results\n",
    "\n",
    "def post_process_results(results):\n",
    "    # for each p, d, combo, we want to store the error rates\n",
    "    \n",
    "    raw_TL = {}\n",
    "    raw_ZL = {}\n",
    "    processed = {}\n",
    "    \n",
    "    for res in results:\n",
    "        d = res.json_metadata['d']\n",
    "        p = res.json_metadata['p']\n",
    "        meas_mode = res.json_metadata['meas_mode']\n",
    "        \n",
    "        # init_basis = res.json_metadata['init_basis']\n",
    "        # observable_basis = res.json_metadata['observable_basis']\n",
    "        key = (d, p)\n",
    "        \n",
    "        if meas_mode == \"01TL\":\n",
    "            raw_TL[key] = {\"shots\": res.shots, \"errs\": res.custom_counts}\n",
    "        else:\n",
    "            raw_ZL[key] = {\"shots\": res.shots, \"errs\": res.custom_counts}\n",
    "    \n",
    "    \n",
    "    # enumerate through both dicts and calculate the error rates\n",
    "    for dp_pair in raw_TL.keys():\n",
    "        d, p = dp_pair\n",
    "        \n",
    "        out = {}\n",
    "        \n",
    "        tl_data = raw_TL[dp_pair]\n",
    "        tl_shots = tl_data[\"shots\"]\n",
    "        \n",
    "        zl_data = raw_ZL[dp_pair]\n",
    "        zl_shots = zl_data[\"shots\"]\n",
    "        \n",
    "        out[\"tl\"] = {k: v / tl_shots for k, v in tl_data[\"errs\"].items()}\n",
    "        out[\"zl\"] = {k: v / zl_shots for k, v in zl_data[\"errs\"].items()}\n",
    "        \n",
    "        tl_err_rate = 0\n",
    "        \n",
    "        # tl err rates\n",
    "        for err_type, err_rate in tl_data[\"errs\"].items():\n",
    "            err_name = err_type.split(\"=\")[1]\n",
    "            \n",
    "            # will be X0, X1, TL\n",
    "            # first error is 100% bad, second error doesn't matter, third error matters half\n",
    "            if err_name.startswith(\"E\"):\n",
    "                tl_err_rate += err_rate\n",
    "            elif err_name.endswith(\"E\"):\n",
    "                tl_err_rate += err_rate / 2\n",
    "        tl_err_rate = tl_err_rate / tl_shots\n",
    "        \n",
    "        out[\"tl_err_rate\"] = tl_err_rate\n",
    "        \n",
    "        # zl err rates\n",
    "        assert len(out[\"zl\"]) <= 1, out[\"zl\"]\n",
    "        zl_err_rate = out[\"zl\"].get(\"obs_mistake_mask=E\", 0)\n",
    "        out[\"zl_err_rate\"] = zl_err_rate\n",
    "        \n",
    "        out[\"error_rate\"] = 1 - (1 - tl_err_rate) * (1 - zl_err_rate)\n",
    "        processed[dp_pair] = out\n",
    "    \n",
    "    return processed, raw_TL, raw_ZL\n"
   ]
  },
  {
   "cell_type": "code",
   "execution_count": 4,
   "metadata": {},
   "outputs": [
    {
     "name": "stdout",
     "output_type": "stream",
     "text": [
      "Running 42 circuits\n"
     ]
    }
   ],
   "source": [
    "d_range = [5, 7, 9]\n",
    "p_range = np.geomspace(1e-5, 1e-3, 7)\n",
    "\n",
    "\n",
    "results1 = produce_results(d_range, p_range)"
   ]
  },
  {
   "cell_type": "code",
   "execution_count": 5,
   "metadata": {},
   "outputs": [],
   "source": [
    "processed, raw_TL, raw_ZL = post_process_results(results1)"
   ]
  },
  {
   "cell_type": "code",
   "execution_count": 6,
   "metadata": {},
   "outputs": [
    {
     "data": {
      "text/plain": [
       "{(5,\n",
       "  2.1544346900318823e-05): {'tl': {'obs_mistake_mask=E_E': 2e-07,\n",
       "   'obs_mistake_mask=E__': 2e-07}, 'zl': {'obs_mistake_mask=E': 1.1e-06}, 'tl_err_rate': 4e-07, 'zl_err_rate': 1.1e-06, 'error_rate': 1.4999995600062377e-06},\n",
       " (5,\n",
       "  1e-05): {'tl': {'obs_mistake_mask=E_E': 1e-07,\n",
       "   'obs_mistake_mask=_EE': 1e-07}, 'zl': {'obs_mistake_mask=E': 5e-07}, 'tl_err_rate': 1.5e-07, 'zl_err_rate': 5e-07, 'error_rate': 6.49999924884348e-07},\n",
       " (5,\n",
       "  0.0001): {'tl': {'obs_mistake_mask=_E_': 1.3816600076072575e-05,\n",
       "   'obs_mistake_mask=E__': 8.398325536436271e-06,\n",
       "   'obs_mistake_mask=E_E': 4.605533358690858e-06,\n",
       "   'obs_mistake_mask=_EE': 8.127411809454455e-07}, 'zl': {'obs_mistake_mask=E': 2.8353932690464166e-05}, 'tl_err_rate': 1.3410229485599852e-05, 'zl_err_rate': 2.8353932690464166e-05, 'error_rate': 4.176378194342689e-05},\n",
       " (5,\n",
       "  4.641588833612782e-05): {'tl': {'obs_mistake_mask=E__': 2.3e-06,\n",
       "   'obs_mistake_mask=_E_': 1.4e-06,\n",
       "   'obs_mistake_mask=E_E': 9e-07}, 'zl': {'obs_mistake_mask=E': 6e-06}, 'tl_err_rate': 3.2e-06, 'zl_err_rate': 6e-06, 'error_rate': 9.199980799956542e-06},\n",
       " (5,\n",
       "  0.00021544346900318823): {'tl': {'obs_mistake_mask=E__': 3.9775947768498304e-05,\n",
       "   'obs_mistake_mask=_E_': 0.00010938385636337033,\n",
       "   'obs_mistake_mask=E_E': 2.9831960826373728e-05,\n",
       "   'obs_mistake_mask=_EE': 2.841139126321307e-06}, 'zl': {'obs_mistake_mask=E': 0.00029032911068730755}, 'tl_err_rate': 7.102847815803268e-05, 'zl_err_rate': 0.00029032911068730755, 'error_rate': 0.00036133696721041275},\n",
       " (5,\n",
       "  0.00046415888336127773): {'tl': {'obs_mistake_mask=E_E': 0.00013584133731801257,\n",
       "   'obs_mistake_mask=E__': 0.00028766400843814426,\n",
       "   'obs_mistake_mask=_E_': 0.00039953334505297815,\n",
       "   'obs_mistake_mask=_EE': 7.990666901059563e-06}, 'zl': {'obs_mistake_mask=E': 0.001567064264849075}, 'tl_err_rate': 0.0004275006792066866, 'zl_err_rate': 0.001567064264849075, 'error_rate': 0.0019938950230182773},\n",
       " (5,\n",
       "  0.001): {'tl': {'obs_mistake_mask=_E_': 0.001971476510067114,\n",
       "   'obs_mistake_mask=__E': 4.194630872483221e-05,\n",
       "   'obs_mistake_mask=E__': 0.001552013422818792,\n",
       "   'obs_mistake_mask=E_E': 0.0009228187919463087,\n",
       "   'obs_mistake_mask=_EE': 0.00012583892617449666}, 'zl': {'obs_mistake_mask=E': 0.008061210547889056}, 'tl_err_rate': 0.002558724832214765, 'zl_err_rate': 0.008061210547889056, 'error_rate': 0.010599308960497211},\n",
       " (7, 1e-05): {'tl': {},\n",
       "  'zl': {},\n",
       "  'tl_err_rate': 0.0,\n",
       "  'zl_err_rate': 0,\n",
       "  'error_rate': 0.0},\n",
       " (7, 2.1544346900318823e-05): {'tl': {},\n",
       "  'zl': {},\n",
       "  'tl_err_rate': 0.0,\n",
       "  'zl_err_rate': 0,\n",
       "  'error_rate': 0.0},\n",
       " (7,\n",
       "  4.641588833612782e-05): {'tl': {'obs_mistake_mask=_E_': 1e-07,\n",
       "   'obs_mistake_mask=E__': 1e-07,\n",
       "   'obs_mistake_mask=E_E': 1e-07}, 'zl': {}, 'tl_err_rate': 2e-07, 'zl_err_rate': 0, 'error_rate': 2.0000000000575113e-07},\n",
       " (7,\n",
       "  0.0001): {'tl': {'obs_mistake_mask=_E_': 1.1e-06,\n",
       "   'obs_mistake_mask=E__': 8e-07,\n",
       "   'obs_mistake_mask=E_E': 4e-07}, 'zl': {'obs_mistake_mask=E': 4e-06}, 'tl_err_rate': 1.2e-06, 'zl_err_rate': 4e-06, 'error_rate': 5.19999519998926e-06},\n",
       " (7,\n",
       "  0.00021544346900318823): {'tl': {'obs_mistake_mask=_E_': 1.2447289539196261e-05,\n",
       "   'obs_mistake_mask=E_E': 2.2862368541380887e-06,\n",
       "   'obs_mistake_mask=E__': 4.318447391149723e-06}, 'zl': {'obs_mistake_mask=E': 1.716103468482295e-05}, 'tl_err_rate': 6.604684245287812e-06, 'zl_err_rate': 1.716103468482295e-05, 'error_rate': 2.3765605586922867e-05},\n",
       " (7,\n",
       "  0.00046415888336127773): {'tl': {'obs_mistake_mask=E_E': 2.665436702831621e-05,\n",
       "   'obs_mistake_mask=_E_': 5.214984853366215e-05,\n",
       "   'obs_mistake_mask=E__': 4.056099330395945e-05}, 'zl': {'obs_mistake_mask=E': 0.00022752431666134317}, 'tl_err_rate': 6.721536033227565e-05, 'zl_err_rate': 0.00022752431666134317, 'error_rate': 0.00029472438386479727},\n",
       " (7,\n",
       "  0.001): {'tl': {'obs_mistake_mask=E__': 0.00036124629973408257,\n",
       "   'obs_mistake_mask=_E_': 0.0004716271135417189,\n",
       "   'obs_mistake_mask=E_E': 0.0002609001053635041,\n",
       "   'obs_mistake_mask=_EE': 2.00692388741157e-05}, 'zl': {'obs_mistake_mask=E': 0.0016003549302023418}, 'tl_err_rate': 0.0006321810245346445, 'zl_err_rate': 0.0016003549302023418, 'error_rate': 0.0022315242407175973},\n",
       " (9, 1e-05): {'tl': {},\n",
       "  'zl': {},\n",
       "  'tl_err_rate': 0.0,\n",
       "  'zl_err_rate': 0,\n",
       "  'error_rate': 0.0},\n",
       " (9, 2.1544346900318823e-05): {'tl': {},\n",
       "  'zl': {},\n",
       "  'tl_err_rate': 0.0,\n",
       "  'zl_err_rate': 0,\n",
       "  'error_rate': 0.0},\n",
       " (9, 4.641588833612782e-05): {'tl': {},\n",
       "  'zl': {},\n",
       "  'tl_err_rate': 0.0,\n",
       "  'zl_err_rate': 0,\n",
       "  'error_rate': 0.0},\n",
       " (9, 0.0001): {'tl': {},\n",
       "  'zl': {'obs_mistake_mask=E': 1e-07},\n",
       "  'tl_err_rate': 0.0,\n",
       "  'zl_err_rate': 1e-07,\n",
       "  'error_rate': 9.999999994736442e-08},\n",
       " (9,\n",
       "  0.00021544346900318823): {'tl': {'obs_mistake_mask=E__': 3e-07,\n",
       "   'obs_mistake_mask=_E_': 4e-07}, 'zl': {'obs_mistake_mask=E': 1.6e-06}, 'tl_err_rate': 3e-07, 'zl_err_rate': 1.6e-06, 'error_rate': 1.899999520049711e-06},\n",
       " (9,\n",
       "  0.00046415888336127773): {'tl': {'obs_mistake_mask=_E_': 6.537868478353608e-06,\n",
       "   'obs_mistake_mask=E_E': 1.634467119588402e-06,\n",
       "   'obs_mistake_mask=E__': 3.05100528989835e-06}, 'zl': {'obs_mistake_mask=E': 2.610961285449348e-05}, 'tl_err_rate': 4.685472409486752e-06, 'zl_err_rate': 2.610961285449348e-05, 'error_rate': 3.079496292812678e-05},\n",
       " (9,\n",
       "  0.001): {'tl': {'obs_mistake_mask=E__': 6.836484952896619e-05,\n",
       "   'obs_mistake_mask=_E_': 0.00011524360349168586,\n",
       "   'obs_mistake_mask=E_E': 1.9532814151133197e-05}, 'zl': {'obs_mistake_mask=E': 0.000376007607162168}, 'tl_err_rate': 8.789766368009938e-05, 'zl_err_rate': 0.000376007607162168, 'error_rate': 0.0004638722206521395}}"
      ]
     },
     "execution_count": 6,
     "metadata": {},
     "output_type": "execute_result"
    }
   ],
   "source": [
    "processed"
   ]
  },
  {
   "cell_type": "code",
   "execution_count": 7,
   "metadata": {},
   "outputs": [
    {
     "data": {
      "text/plain": [
       "Text(0.5, 1.0, 'Error rate vs p for different d values')"
      ]
     },
     "execution_count": 7,
     "metadata": {},
     "output_type": "execute_result"
    },
    {
     "data": {
      "image/png": "[encoded data removed]",
      "text/plain": [
       "<Figure size 640x480 with 1 Axes>"
      ]
     },
     "metadata": {},
     "output_type": "display_data"
    }
   ],
   "source": [
    "\n",
    "\n",
    "# plot results\n",
    "for d_val in d_range:\n",
    "    # get all relevant err rates\n",
    "    err_rates = [processed[(d_val, p)][\"error_rate\"] for p in p_range]\n",
    "    # err_rates = [processed[(d_val, p)][\"tl\"].get(\"obs_mistake_mask=_EE\", 0) for p in p_range]\n",
    "    \n",
    "    plt.plot(p_range, err_rates, label=f\"d={d_val}\")\n",
    "\n",
    "plt.xscale(\"log\")\n",
    "plt.yscale(\"log\")\n",
    "plt.xlabel(\"p\")\n",
    "plt.ylabel(\"Error rate\")\n",
    "plt.legend()\n",
    "plt.title(\"Error rate vs p for different d values\")"
   ]
  },
  {
   "cell_type": "code",
   "execution_count": null,
   "metadata": {},
   "outputs": [],
   "source": []
  }
 ],
 "metadata": {
  "kernelspec": {
   "display_name": "verity-full",
   "language": "python",
   "name": "python3"
  },
  "language_info": {
   "codemirror_mode": {
    "name": "ipython",
    "version": 3
   },
   "file_extension": ".py",
   "mimetype": "text/x-python",
   "name": "python",
   "nbconvert_exporter": "python",
   "pygments_lexer": "ipython3",
   "version": "3.11.7"
  }
 },
 "nbformat": 4,
 "nbformat_minor": 2
}
