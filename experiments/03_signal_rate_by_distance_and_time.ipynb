{
 "cells": [
  {
   "cell_type": "markdown",
   "metadata": {},
   "source": [
    "# Goal: gathering statistics about performance of detection algorithm (generating a \"detector spec\" for future system-level statistical simulations)\n",
    "\n",
    "### Note: much of the code built in this notebook has now been implemented in `ray_delay/ray_detector.py` for easier use in further experiments."
   ]
  },
  {
   "cell_type": "code",
   "execution_count": 4,
   "metadata": {},
   "outputs": [],
   "source": [
    "import sys\n",
    "sys.path.append('..')\n",
    "\n",
    "import numpy as np\n",
    "import matplotlib.pyplot as plt\n",
    "import matplotlib as mpl\n",
    "import scipy\n",
    "import mpmath\n",
    "import dill as pickle\n",
    "\n",
    "from ray_delay.noise_model_patch import NoiseModelPatch\n",
    "from ray_delay.ray_detector import RayDetectorSpec, RayDetector\n",
    "from stim_surface_code.memory import MemoryPatch\n",
    "from stim_surface_code.patch import Qubit, DataQubit, MeasureQubit"
   ]
  },
  {
   "cell_type": "code",
   "execution_count": 5,
   "metadata": {},
   "outputs": [],
   "source": [
    "dx = 11\n",
    "dz = 11\n",
    "dm = 7\n",
    "\n",
    "patch = NoiseModelPatch(MemoryPatch(dx, dz, dm))\n",
    "patch.noise_model.save_error_vals = True\n",
    "center_coords = patch.patch.device[dx][dz].coords"
   ]
  },
  {
   "cell_type": "code",
   "execution_count": 6,
   "metadata": {},
   "outputs": [],
   "source": [
    "ray_radius = 6"
   ]
  },
  {
   "cell_type": "code",
   "execution_count": 7,
   "metadata": {},
   "outputs": [],
   "source": [
    "syndrome_qubits = patch.patch.get_syndrome_qubits()"
   ]
  },
  {
   "cell_type": "code",
   "execution_count": 8,
   "metadata": {},
   "outputs": [
    {
     "ename": "KeyboardInterrupt",
     "evalue": "",
     "output_type": "error",
     "traceback": [
      "\u001b[0;31m---------------------------------------------------------------------------\u001b[0m",
      "\u001b[0;31mKeyboardInterrupt\u001b[0m                         Traceback (most recent call last)",
      "Cell \u001b[0;32mIn[8], line 2\u001b[0m\n\u001b[1;32m      1\u001b[0m patch\u001b[38;5;241m.\u001b[39mreset()\n\u001b[0;32m----> 2\u001b[0m baseline_fractions \u001b[38;5;241m=\u001b[39m np\u001b[38;5;241m.\u001b[39mmean(\u001b[43mpatch\u001b[49m\u001b[38;5;241;43m.\u001b[39;49m\u001b[43mpatch\u001b[49m\u001b[38;5;241;43m.\u001b[39;49m\u001b[43mcount_detection_events\u001b[49m\u001b[43m(\u001b[49m\u001b[38;5;241;43m10\u001b[39;49m\u001b[38;5;241;43m*\u001b[39;49m\u001b[38;5;241;43m*\u001b[39;49m\u001b[38;5;241;43m6\u001b[39;49m\u001b[43m,\u001b[49m\u001b[43m \u001b[49m\u001b[43mreturn_full_data\u001b[49m\u001b[38;5;241;43m=\u001b[39;49m\u001b[38;5;28;43;01mTrue\u001b[39;49;00m\u001b[43m)\u001b[49m[\u001b[38;5;241m0\u001b[39m], axis\u001b[38;5;241m=\u001b[39m\u001b[38;5;241m0\u001b[39m)\n\u001b[1;32m      4\u001b[0m ray_fractions \u001b[38;5;241m=\u001b[39m []\n\u001b[1;32m      5\u001b[0m times \u001b[38;5;241m=\u001b[39m np\u001b[38;5;241m.\u001b[39mlinspace(\u001b[38;5;241m0\u001b[39m, \u001b[38;5;241m30e-3\u001b[39m, \u001b[38;5;241m10\u001b[39m)\n",
      "File \u001b[0;32m~/Library/Caches/pypoetry/virtualenvs/ray-delay-mG6OZh6y-py3.11/lib/python3.11/site-packages/stim_surface_code/patch.py:1275\u001b[0m, in \u001b[0;36mSurfaceCodePatch.count_detection_events\u001b[0;34m(self, shots, only_intermediate_detectors, return_full_data, **stim_kwargs)\u001b[0m\n\u001b[1;32m   1244\u001b[0m \u001b[38;5;28;01mdef\u001b[39;00m \u001b[38;5;21mcount_detection_events\u001b[39m(\n\u001b[1;32m   1245\u001b[0m         \u001b[38;5;28mself\u001b[39m,\n\u001b[1;32m   1246\u001b[0m         shots: \u001b[38;5;28mint\u001b[39m, \n\u001b[0;32m   (...)\u001b[0m\n\u001b[1;32m   1249\u001b[0m         \u001b[38;5;241m*\u001b[39m\u001b[38;5;241m*\u001b[39mstim_kwargs,\n\u001b[1;32m   1250\u001b[0m     ) \u001b[38;5;241m-\u001b[39m\u001b[38;5;241m>\u001b[39m \u001b[38;5;28mtuple\u001b[39m[np\u001b[38;5;241m.\u001b[39mndarray, np\u001b[38;5;241m.\u001b[39mndarray \u001b[38;5;241m|\u001b[39m \u001b[38;5;28;01mNone\u001b[39;00m, np\u001b[38;5;241m.\u001b[39mndarray \u001b[38;5;241m|\u001b[39m \u001b[38;5;28;01mNone\u001b[39;00m]:\n\u001b[1;32m   1251\u001b[0m \u001b[38;5;250m    \u001b[39m\u001b[38;5;124;03m\"\"\"Count detection rate for each detector in circuit. Shots are taken until all standard\u001b[39;00m\n\u001b[1;32m   1252\u001b[0m \u001b[38;5;124;03m    deviations are below `fractional_stdev` or until reaching the maximum number specified by\u001b[39;00m\n\u001b[1;32m   1253\u001b[0m \u001b[38;5;124;03m    `shots`.\u001b[39;00m\n\u001b[0;32m   (...)\u001b[0m\n\u001b[1;32m   1273\u001b[0m \u001b[38;5;124;03m            num_observables).\u001b[39;00m\n\u001b[1;32m   1274\u001b[0m \u001b[38;5;124;03m    \"\"\"\u001b[39;00m\n\u001b[0;32m-> 1275\u001b[0m     circuit \u001b[38;5;241m=\u001b[39m \u001b[38;5;28;43mself\u001b[39;49m\u001b[38;5;241;43m.\u001b[39;49m\u001b[43mget_stim\u001b[49m\u001b[43m(\u001b[49m\u001b[38;5;241;43m*\u001b[39;49m\u001b[38;5;241;43m*\u001b[39;49m\u001b[43mstim_kwargs\u001b[49m\u001b[43m)\u001b[49m\n\u001b[1;32m   1277\u001b[0m     sampler \u001b[38;5;241m=\u001b[39m circuit\u001b[38;5;241m.\u001b[39mcompile_detector_sampler()\n\u001b[1;32m   1279\u001b[0m     detector_samples, observable_samples \u001b[38;5;241m=\u001b[39m sampler\u001b[38;5;241m.\u001b[39msample(shots\u001b[38;5;241m=\u001b[39mshots, separate_observables\u001b[38;5;241m=\u001b[39m\u001b[38;5;28;01mTrue\u001b[39;00m)\n",
      "File \u001b[0;32m~/Library/Caches/pypoetry/virtualenvs/ray-delay-mG6OZh6y-py3.11/lib/python3.11/site-packages/stim_surface_code/memory.py:65\u001b[0m, in \u001b[0;36mMemoryPatch.get_stim\u001b[0;34m(self, observable_basis, ideal_init_and_meas)\u001b[0m\n\u001b[1;32m     62\u001b[0m         \u001b[38;5;28mself\u001b[39m\u001b[38;5;241m.\u001b[39mapply_1gate(circ, \u001b[38;5;124m'\u001b[39m\u001b[38;5;124mH\u001b[39m\u001b[38;5;124m'\u001b[39m, [q\u001b[38;5;241m.\u001b[39midx \u001b[38;5;28;01mfor\u001b[39;00m q \u001b[38;5;129;01min\u001b[39;00m \u001b[38;5;28mself\u001b[39m\u001b[38;5;241m.\u001b[39mdata])\n\u001b[1;32m     64\u001b[0m \u001b[38;5;66;03m# Syndrome rounds\u001b[39;00m\n\u001b[0;32m---> 65\u001b[0m \u001b[38;5;28;43mself\u001b[39;49m\u001b[38;5;241;43m.\u001b[39;49m\u001b[43msyndrome_round\u001b[49m\u001b[43m(\u001b[49m\n\u001b[1;32m     66\u001b[0m \u001b[43m    \u001b[49m\u001b[43mcirc\u001b[49m\u001b[43m,\u001b[49m\n\u001b[1;32m     67\u001b[0m \u001b[43m    \u001b[49m\u001b[43mdeterministic_detectors\u001b[49m\u001b[38;5;241;43m=\u001b[39;49m\u001b[43m[\u001b[49m\u001b[43ma\u001b[49m\u001b[38;5;241;43m.\u001b[39;49m\u001b[43midx\u001b[49m\u001b[43m \u001b[49m\u001b[38;5;28;43;01mfor\u001b[39;49;00m\u001b[43m \u001b[49m\u001b[43ma\u001b[49m\u001b[43m \u001b[49m\u001b[38;5;129;43;01min\u001b[39;49;00m\u001b[43m \u001b[49m\u001b[43mobservable_ancilla\u001b[49m\u001b[43m]\u001b[49m\u001b[43m,\u001b[49m\n\u001b[1;32m     68\u001b[0m \u001b[43m    \u001b[49m\u001b[43minactive_detectors\u001b[49m\u001b[38;5;241;43m=\u001b[39;49m\u001b[43m[\u001b[49m\u001b[43ma\u001b[49m\u001b[38;5;241;43m.\u001b[39;49m\u001b[43midx\u001b[49m\u001b[43m \u001b[49m\u001b[38;5;28;43;01mfor\u001b[39;49;00m\u001b[43m \u001b[49m\u001b[43ma\u001b[49m\u001b[43m \u001b[49m\u001b[38;5;129;43;01min\u001b[39;49;00m\u001b[43m \u001b[49m\u001b[38;5;28;43mself\u001b[39;49m\u001b[38;5;241;43m.\u001b[39;49m\u001b[43mancilla\u001b[49m\u001b[43m \u001b[49m\n\u001b[1;32m     69\u001b[0m \u001b[43m                        \u001b[49m\u001b[38;5;28;43;01mif\u001b[39;49;00m\u001b[43m \u001b[49m\u001b[43ma\u001b[49m\u001b[43m \u001b[49m\u001b[38;5;129;43;01mnot\u001b[39;49;00m\u001b[43m \u001b[49m\u001b[38;5;129;43;01min\u001b[39;49;00m\u001b[43m \u001b[49m\u001b[43mobservable_ancilla\u001b[49m\u001b[43m]\u001b[49m\u001b[43m,\u001b[49m\n\u001b[1;32m     70\u001b[0m \u001b[43m\u001b[49m\u001b[43m)\u001b[49m\n\u001b[1;32m     71\u001b[0m circ\u001b[38;5;241m.\u001b[39mappend(stim\u001b[38;5;241m.\u001b[39mCircuitRepeatBlock(\u001b[38;5;28mself\u001b[39m\u001b[38;5;241m.\u001b[39mdm \u001b[38;5;241m-\u001b[39m \u001b[38;5;241m1\u001b[39m, \u001b[38;5;28mself\u001b[39m\u001b[38;5;241m.\u001b[39msyndrome_round(stim\u001b[38;5;241m.\u001b[39mCircuit())))\n\u001b[1;32m     73\u001b[0m \u001b[38;5;66;03m# measurement\u001b[39;00m\n",
      "File \u001b[0;32m~/Library/Caches/pypoetry/virtualenvs/ray-delay-mG6OZh6y-py3.11/lib/python3.11/site-packages/stim_surface_code/patch.py:1124\u001b[0m, in \u001b[0;36mSurfaceCodePatch.syndrome_round\u001b[0;34m(self, circ, deterministic_detectors, inactive_detectors)\u001b[0m\n\u001b[1;32m   1122\u001b[0m             \u001b[38;5;28;01mif\u001b[39;00m dqi \u001b[38;5;241m!=\u001b[39m \u001b[38;5;28;01mNone\u001b[39;00m:\n\u001b[1;32m   1123\u001b[0m                 err_qubits \u001b[38;5;241m+\u001b[39m\u001b[38;5;241m=\u001b[39m [(dqi\u001b[38;5;241m.\u001b[39midx, measure\u001b[38;5;241m.\u001b[39midx)]\n\u001b[0;32m-> 1124\u001b[0m     \u001b[38;5;28;43mself\u001b[39;49m\u001b[38;5;241;43m.\u001b[39;49m\u001b[43mapply_2gate\u001b[49m\u001b[43m(\u001b[49m\u001b[43mcirc\u001b[49m\u001b[43m,\u001b[49m\u001b[38;5;124;43m'\u001b[39;49m\u001b[38;5;124;43mCX\u001b[39;49m\u001b[38;5;124;43m'\u001b[39;49m\u001b[43m,\u001b[49m\u001b[43merr_qubits\u001b[49m\u001b[43m)\u001b[49m\n\u001b[1;32m   1125\u001b[0m \u001b[38;5;28mself\u001b[39m\u001b[38;5;241m.\u001b[39mapply_1gate(circ, \u001b[38;5;124m'\u001b[39m\u001b[38;5;124mH\u001b[39m\u001b[38;5;124m'\u001b[39m, [measure\u001b[38;5;241m.\u001b[39midx \n\u001b[1;32m   1126\u001b[0m                              \u001b[38;5;28;01mfor\u001b[39;00m measure \u001b[38;5;129;01min\u001b[39;00m \u001b[38;5;28mself\u001b[39m\u001b[38;5;241m.\u001b[39mx_ancilla\n\u001b[1;32m   1127\u001b[0m                              \u001b[38;5;28;01mif\u001b[39;00m \u001b[38;5;28mself\u001b[39m\u001b[38;5;241m.\u001b[39mqubits_active[measure\u001b[38;5;241m.\u001b[39midx]])\n\u001b[1;32m   1129\u001b[0m \u001b[38;5;28mself\u001b[39m\u001b[38;5;241m.\u001b[39mapply_erasures(circ, [q\u001b[38;5;241m.\u001b[39midx \u001b[38;5;28;01mfor\u001b[39;00m q \u001b[38;5;129;01min\u001b[39;00m \u001b[38;5;28mself\u001b[39m\u001b[38;5;241m.\u001b[39mall_qubits])\n",
      "File \u001b[0;32m~/Library/Caches/pypoetry/virtualenvs/ray-delay-mG6OZh6y-py3.11/lib/python3.11/site-packages/stim_surface_code/patch.py:828\u001b[0m, in \u001b[0;36mSurfaceCodePatch.apply_2gate\u001b[0;34m(self, circ, gate, qubit_pairs, unused_qubits_idle)\u001b[0m\n\u001b[1;32m    826\u001b[0m     target_indices \u001b[38;5;241m=\u001b[39m npi\u001b[38;5;241m.\u001b[39mindices(np\u001b[38;5;241m.\u001b[39marray(\u001b[38;5;28mself\u001b[39m\u001b[38;5;241m.\u001b[39mqubit_pairs), targets, axis\u001b[38;5;241m=\u001b[39m\u001b[38;5;241m0\u001b[39m)\n\u001b[1;32m    827\u001b[0m     ps \u001b[38;5;241m=\u001b[39m \u001b[38;5;28mself\u001b[39m\u001b[38;5;241m.\u001b[39m_error_vals_numpy[\u001b[38;5;124m'\u001b[39m\u001b[38;5;124mgate2_err\u001b[39m\u001b[38;5;124m'\u001b[39m][target_indices]\n\u001b[0;32m--> 828\u001b[0m     \u001b[38;5;28;43mself\u001b[39;49m\u001b[38;5;241;43m.\u001b[39;49m\u001b[43mapply_operations\u001b[49m\u001b[43m(\u001b[49m\u001b[43mcirc\u001b[49m\u001b[43m,\u001b[49m\u001b[43m \u001b[49m\u001b[38;5;124;43m'\u001b[39;49m\u001b[38;5;124;43mDEPOLARIZE2\u001b[39;49m\u001b[38;5;124;43m'\u001b[39;49m\u001b[43m,\u001b[49m\u001b[43m \u001b[49m\u001b[43mtargets\u001b[49m\u001b[43m,\u001b[49m\u001b[43m \u001b[49m\u001b[43mps\u001b[49m\u001b[43m)\u001b[49m\n\u001b[1;32m    830\u001b[0m \u001b[38;5;28;01mif\u001b[39;00m \u001b[38;5;28mself\u001b[39m\u001b[38;5;241m.\u001b[39mapply_idle_during_gates \u001b[38;5;129;01mand\u001b[39;00m unused_qubits_idle:\n\u001b[1;32m    831\u001b[0m     \u001b[38;5;28mself\u001b[39m\u001b[38;5;241m.\u001b[39mapply_idle(\n\u001b[1;32m    832\u001b[0m         circ, \n\u001b[1;32m    833\u001b[0m         \u001b[38;5;28mself\u001b[39m\u001b[38;5;241m.\u001b[39mgate2_time,\n\u001b[1;32m    834\u001b[0m     )\n",
      "File \u001b[0;32m~/Library/Caches/pypoetry/virtualenvs/ray-delay-mG6OZh6y-py3.11/lib/python3.11/site-packages/stim_surface_code/patch.py:540\u001b[0m, in \u001b[0;36mSurfaceCodePatch.apply_operations\u001b[0;34m(self, circ, operation, targets, params)\u001b[0m\n\u001b[1;32m    538\u001b[0m \u001b[38;5;28;01mfor\u001b[39;00m p \u001b[38;5;129;01min\u001b[39;00m unique_params:\n\u001b[1;32m    539\u001b[0m     ts \u001b[38;5;241m=\u001b[39m targets[np\u001b[38;5;241m.\u001b[39mall(params \u001b[38;5;241m==\u001b[39m p, axis\u001b[38;5;241m=\u001b[39m\u001b[38;5;241m1\u001b[39m)]\n\u001b[0;32m--> 540\u001b[0m     \u001b[43mcirc\u001b[49m\u001b[38;5;241;43m.\u001b[39;49m\u001b[43mappend\u001b[49m\u001b[43m(\u001b[49m\u001b[43moperation\u001b[49m\u001b[43m,\u001b[49m\u001b[43m \u001b[49m\u001b[43mts\u001b[49m\u001b[38;5;241;43m.\u001b[39;49m\u001b[43mflatten\u001b[49m\u001b[43m(\u001b[49m\u001b[43m)\u001b[49m\u001b[43m,\u001b[49m\u001b[43m \u001b[49m\u001b[43mp\u001b[49m\u001b[43m)\u001b[49m\n",
      "\u001b[0;31mKeyboardInterrupt\u001b[0m: "
     ]
    }
   ],
   "source": [
    "patch.reset()\n",
    "baseline_fractions = np.mean(patch.patch.count_detection_events(10**6, return_full_data=True)[0], axis=0)\n",
    "\n",
    "ray_fractions = []\n",
    "times = np.linspace(0, 30e-3, 10)\n",
    "for time in times:\n",
    "    patch.reset()\n",
    "    patch.force_cosmic_ray_by_coords(center_coords)\n",
    "    patch.step(time)\n",
    "    ray_fractions.append(np.mean(patch.patch.count_detection_events(10**6, return_full_data=True)[0], axis=0))\n",
    "\n",
    "baseline_fractions_labeled = {q.idx: baseline_fractions[i] for i,q in enumerate(syndrome_qubits)}\n",
    "ray_fractions_labeled = [{q.idx:r[i] for i,q in enumerate(syndrome_qubits)} for r in ray_fractions]"
   ]
  },
  {
   "cell_type": "code",
   "execution_count": null,
   "metadata": {},
   "outputs": [],
   "source": [
    "def _initialize_windows(\n",
    "        device: list[list[Qubit | None]],\n",
    "        spatial_window_size: int,\n",
    "        only_full_windows: bool = False,\n",
    "    ) -> list[list[int]]:\n",
    "    \"\"\"Initialize spatial windows that we will use to detect cosmic rays.\n",
    "    \n",
    "    Args:\n",
    "        device: The layout of the device, in the form of a 2D list of Qubit\n",
    "            objects.\n",
    "    \"\"\"\n",
    "    assert spatial_window_size < len(device) and spatial_window_size < len(device[0])\n",
    "    window_rows = (len(device) - spatial_window_size)//2 + 1\n",
    "    window_cols = (len(device[0]) - spatial_window_size)//2 + 1\n",
    "\n",
    "    min_qubit_count = spatial_window_size**2 if only_full_windows else 1\n",
    "\n",
    "    all_windows = []\n",
    "    for wr in range(window_rows):\n",
    "        for wc in range(window_cols):\n",
    "            window_qubits = []\n",
    "            for r in range(wr, wr + spatial_window_size):\n",
    "                for c in range(wc, wc + spatial_window_size):\n",
    "                    qb = device[2*r][2*c]\n",
    "                    if isinstance(qb, MeasureQubit):\n",
    "                        window_qubits.append(qb.idx)\n",
    "            if len(window_qubits) >= min_qubit_count:\n",
    "                all_windows.append(window_qubits)\n",
    "    return all_windows"
   ]
  },
  {
   "cell_type": "code",
   "execution_count": null,
   "metadata": {},
   "outputs": [],
   "source": [
    "mpmath.mp.dps = 50\n",
    "\n",
    "cycles_per_distillation = 6*dm\n",
    "max_latency = cycles_per_distillation\n",
    "\n",
    "thresholds = [1-mpmath.mpf(1e-9), 1-mpmath.mpf(1e-10), 1-mpmath.mpf(1e-11), 1-mpmath.mpf(1e-13), 1-mpmath.mpf(1e-15)]\n",
    "temporal_window_size = max_latency\n",
    "spatial_size = 2\n",
    "\n",
    "detector_windows = _initialize_windows(patch.patch.device, spatial_size, only_full_windows=True)"
   ]
  },
  {
   "cell_type": "code",
   "execution_count": null,
   "metadata": {},
   "outputs": [],
   "source": [
    "distances = np.zeros(len(patch.patch.ancilla), dtype=float)\n",
    "# center_coords = patch.patch.qubit_name_dict[center_qubit].coords\n",
    "\n",
    "for i,qubit in enumerate(patch.patch.ancilla):\n",
    "    coords = qubit.coords\n",
    "    distances[i] = np.sqrt((coords[0]-center_coords[0])**2 + (coords[1]-center_coords[1])**2)"
   ]
  },
  {
   "cell_type": "code",
   "execution_count": null,
   "metadata": {},
   "outputs": [],
   "source": [
    "unique_distances = []\n",
    "qubits_per_distance = []\n",
    "for i,dst in enumerate(distances):\n",
    "    qubit = patch.patch.ancilla[i].idx\n",
    "    dst_rounded = np.round(dst, 2)\n",
    "    if dst_rounded not in unique_distances:\n",
    "        unique_distances.append(dst_rounded)\n",
    "        qubits_per_distance.append([qubit])\n",
    "    else:\n",
    "        qubits_per_distance[unique_distances.index(dst_rounded)].append(qubit)"
   ]
  },
  {
   "cell_type": "code",
   "execution_count": null,
   "metadata": {},
   "outputs": [],
   "source": [
    "qubits_per_distance = np.array(qubits_per_distance, dtype=object)[np.argsort(unique_distances)]\n",
    "unique_distances = np.sort(unique_distances)"
   ]
  },
  {
   "cell_type": "code",
   "execution_count": null,
   "metadata": {},
   "outputs": [],
   "source": [
    "first_distillation_signal_rate_by_distance = np.zeros((len(thresholds), max_latency, len(unique_distances)), dtype=mpmath.mpf)\n",
    "signal_rates = np.zeros((len(thresholds), max_latency, len(detector_windows)), dtype=mpmath.mpf)\n",
    "for i,threshold in enumerate(thresholds):\n",
    "    for latency in range(max_latency):\n",
    "        for k,window in enumerate(detector_windows):\n",
    "            baseline_mean = np.mean([baseline_fractions_labeled[q] for q in window]) # mean per qubit per round\n",
    "            ray_mean = np.mean([ray_fractions_labeled[0][q] for q in window])\n",
    "\n",
    "            # threshold of detections where we say it is outside of the baseline regime\n",
    "            detection_threshold = scipy.stats.binom.ppf(float(threshold), len(window)*temporal_window_size, baseline_mean)\n",
    "        \n",
    "            if latency <= temporal_window_size:\n",
    "                # some part of window is at baseline rate (before ray has hit)\n",
    "                windowed_syndrome_rate = baseline_mean*(1-latency/temporal_window_size) + ray_mean*(latency/temporal_window_size)\n",
    "            else:\n",
    "                windowed_syndrome_rate = ray_mean\n",
    "            detection_prob = 1-scipy.stats.binom.cdf(detection_threshold, len(window)*temporal_window_size, windowed_syndrome_rate)\n",
    "            signal_rates[i,latency,k] = mpmath.mpf(detection_prob)\n",
    "\n",
    "qubit_no_signal_rates = np.ones((len(thresholds), max_latency, len(patch.patch.all_qubits)), dtype=mpmath.mpf)\n",
    "for i,threshold in enumerate(thresholds):\n",
    "    for latency in range(max_latency):\n",
    "        for k,window in enumerate(detector_windows):\n",
    "            signal_rate = signal_rates[i,latency,k]\n",
    "            for q in window:\n",
    "                qubit_no_signal_rates[i,latency,q] *= (1-signal_rate)\n",
    "\n",
    "no_ray_signal_rates = 1-qubit_no_signal_rates[:,0]\n",
    "false_positive_rate = np.mean(no_ray_signal_rates, axis=1)\n",
    "\n",
    "for k,dst in enumerate(unique_distances):\n",
    "    for q in qubits_per_distance[k]:\n",
    "        first_distillation_signal_rate_by_distance[:,:,k] += (1-qubit_no_signal_rates[:,:,q])\n",
    "    first_distillation_signal_rate_by_distance[:,:,k] /= len(qubits_per_distance[k])\n",
    "\n",
    "    # lower bound by average false positive rate\n",
    "    for latency in range(max_latency):\n",
    "        first_distillation_signal_rate_by_distance[:,latency,k] = np.maximum(first_distillation_signal_rate_by_distance[:,latency,k], false_positive_rate)"
   ]
  },
  {
   "cell_type": "code",
   "execution_count": null,
   "metadata": {},
   "outputs": [
    {
     "data": {
      "text/plain": [
       "array([mpf('0.00000000080135374713282039623724976985682877998107776957194724'),\n",
       "       mpf('0.000000000061375813602289341419684310961606104882652758121556936'),\n",
       "       mpf('0.0000000000048456490088076894785909149856379945393371495533168727'),\n",
       "       mpf('0.000000000000046387974144253001375769360996816318815127050403953767'),\n",
       "       mpf('0.00000000000000049937002435421956976402613142920869001694470819446653')],\n",
       "      dtype=object)"
      ]
     },
     "execution_count": 13,
     "metadata": {},
     "output_type": "execute_result"
    }
   ],
   "source": [
    "false_positive_rate"
   ]
  },
  {
   "cell_type": "code",
   "execution_count": 3,
   "metadata": {},
   "outputs": [
    {
     "ename": "NameError",
     "evalue": "name 'np' is not defined",
     "output_type": "error",
     "traceback": [
      "\u001b[0;31m---------------------------------------------------------------------------\u001b[0m",
      "\u001b[0;31mNameError\u001b[0m                                 Traceback (most recent call last)",
      "Cell \u001b[0;32mIn[3], line 1\u001b[0m\n\u001b[0;32m----> 1\u001b[0m decaying_signal_rate_by_distance \u001b[38;5;241m=\u001b[39m \u001b[43mnp\u001b[49m\u001b[38;5;241m.\u001b[39mzeros((\u001b[38;5;28mlen\u001b[39m(thresholds), \u001b[38;5;28mlen\u001b[39m(times), \u001b[38;5;28mlen\u001b[39m(unique_distances)), dtype\u001b[38;5;241m=\u001b[39mmpmath\u001b[38;5;241m.\u001b[39mmpf)\n\u001b[1;32m      2\u001b[0m signal_rates \u001b[38;5;241m=\u001b[39m np\u001b[38;5;241m.\u001b[39mzeros((\u001b[38;5;28mlen\u001b[39m(thresholds), \u001b[38;5;28mlen\u001b[39m(times), \u001b[38;5;28mlen\u001b[39m(detector_windows)), dtype\u001b[38;5;241m=\u001b[39mmpmath\u001b[38;5;241m.\u001b[39mmpf)\n\u001b[1;32m      3\u001b[0m \u001b[38;5;28;01mfor\u001b[39;00m i,threshold \u001b[38;5;129;01min\u001b[39;00m \u001b[38;5;28menumerate\u001b[39m(thresholds):\n",
      "\u001b[0;31mNameError\u001b[0m: name 'np' is not defined"
     ]
    }
   ],
   "source": [
    "decaying_signal_rate_by_distance = np.zeros((len(thresholds), len(times), len(unique_distances)), dtype=mpmath.mpf)\n",
    "signal_rates = np.zeros((len(thresholds), len(times), len(detector_windows)), dtype=mpmath.mpf)\n",
    "for i,threshold in enumerate(thresholds):\n",
    "    for j,time in enumerate(times):\n",
    "        for k,window in enumerate(detector_windows):\n",
    "            windowed_syndrome_rate = np.mean([ray_fractions_labeled[j][q] for q in window])\n",
    "\n",
    "            # threshold of detections where we say it is outside of the baseline regime\n",
    "            detection_threshold = scipy.stats.binom.ppf(float(threshold), len(window)*temporal_window_size, baseline_mean)\n",
    "\n",
    "            detection_prob = 1-scipy.stats.binom.cdf(detection_threshold, len(window)*temporal_window_size, windowed_syndrome_rate)\n",
    "            signal_rates[i,j,k] = mpmath.mpf(detection_prob)\n",
    "\n",
    "qubit_no_signal_rates = np.ones((len(thresholds), len(times), len(patch.patch.all_qubits)), dtype=mpmath.mpf)\n",
    "for i,threshold in enumerate(thresholds):\n",
    "    for j,time in enumerate(times):\n",
    "        for k,window in enumerate(detector_windows):\n",
    "            signal_rate = signal_rates[i,j,k]\n",
    "            for q in window:\n",
    "                qubit_no_signal_rates[i,j,q] *= (1-signal_rate)\n",
    "\n",
    "for k,dst in enumerate(unique_distances):\n",
    "    for q in qubits_per_distance[k]:\n",
    "        decaying_signal_rate_by_distance[:,:,k] += (1-qubit_no_signal_rates[:,:,q])\n",
    "    decaying_signal_rate_by_distance[:,:,k] /= len(qubits_per_distance[k])\n",
    "\n",
    "    # lower bound by average false positive rate\n",
    "    for j,time in enumerate(times):\n",
    "        decaying_signal_rate_by_distance[:,j,k] = np.maximum(decaying_signal_rate_by_distance[:,j,k], false_positive_rate)"
   ]
  },
  {
   "cell_type": "code",
   "execution_count": 15,
   "metadata": {},
   "outputs": [],
   "source": [
    "from ray_delay.ray_detector import RayDetectorSpec"
   ]
  },
  {
   "cell_type": "code",
   "execution_count": 16,
   "metadata": {},
   "outputs": [],
   "source": [
    "for i,threshold in enumerate(thresholds):\n",
    "    ray_detector_spec = RayDetectorSpec(\n",
    "        detector_spatial_window_size = spatial_size,\n",
    "        detector_temporal_window_size = temporal_window_size,\n",
    "        ray_params = patch.noise_params.cosmic_ray_params,\n",
    "        detection_distances = unique_distances,\n",
    "        times_after_ray_impact = times,\n",
    "        first_distillation_signal_rates = first_distillation_signal_rate_by_distance[i],\n",
    "        decaying_signal_rates = decaying_signal_rate_by_distance[i],\n",
    "        baseline_signal_rate = false_positive_rate.astype(float)[i]\n",
    "    )\n",
    "    pickle.dump(ray_detector_spec, open(f'data/detection_chance_functions/linear_err_thresh=1e{int(np.round(np.log10(float(1-threshold))))}.pkl', 'wb'))"
   ]
  },
  {
   "cell_type": "code",
   "execution_count": 17,
   "metadata": {},
   "outputs": [
    {
     "data": {
      "text/plain": [
       "array([mpf('0.9550700549578507796303975602537226346797422349387809'),\n",
       "       mpf('0.00052762058645898694073720940925618272190498145375772796'),\n",
       "       mpf('0.0000088574621912597421256461095835242863614741484581462403'),\n",
       "       mpf('0.0000010493760515925702930053363428104838790316085911493984'),\n",
       "       mpf('0.00000030263972883743226955264815166633124542028290270755898'),\n",
       "       mpf('0.00000014078150167040185371620803365228707660375604674555831'),\n",
       "       mpf('0.000000085461872693495083461788977544252676140082706506975549'),\n",
       "       mpf('0.00000006190255799592857468104502881074561831722218424815372'),\n",
       "       mpf('0.000000048891926848832774470620144904658280612167078696346327'),\n",
       "       mpf('0.000000041747781181234928924251392479938725298001639129784188')],\n",
       "      dtype=object)"
      ]
     },
     "execution_count": 17,
     "metadata": {},
     "output_type": "execute_result"
    }
   ],
   "source": [
    "decaying_signal_rate_by_distance[0,:,4]"
   ]
  },
  {
   "cell_type": "code",
   "execution_count": 18,
   "metadata": {},
   "outputs": [
    {
     "data": {
      "image/png": "[encoded data removed]",
      "text/plain": [
       "<Figure size 640x480 with 1 Axes>"
      ]
     },
     "metadata": {},
     "output_type": "display_data"
    },
    {
     "data": {
      "image/png": "[encoded data removed]",
      "text/plain": [
       "<Figure size 640x480 with 1 Axes>"
      ]
     },
     "metadata": {},
     "output_type": "display_data"
    }
   ],
   "source": [
    "plt.plot(times, decaying_signal_rate_by_distance[0,:,4].T)\n",
    "plt.xlabel('Time after ray impact (s)')\n",
    "plt.show()\n",
    "\n",
    "plt.plot(unique_distances, decaying_signal_rate_by_distance[0,0,:].T)\n",
    "plt.xlabel('Distance from center (a.u.)')\n",
    "plt.show()"
   ]
  }
 ],
 "metadata": {
  "kernelspec": {
   "display_name": "ray-delay-mG6OZh6y-py3.11",
   "language": "python",
   "name": "python3"
  },
  "language_info": {
   "codemirror_mode": {
    "name": "ipython",
    "version": 3
   },
   "file_extension": ".py",
   "mimetype": "text/x-python",
   "name": "python",
   "nbconvert_exporter": "python",
   "pygments_lexer": "ipython3",
   "version": "3.11.7"
  }
 },
 "nbformat": 4,
 "nbformat_minor": 2
}
