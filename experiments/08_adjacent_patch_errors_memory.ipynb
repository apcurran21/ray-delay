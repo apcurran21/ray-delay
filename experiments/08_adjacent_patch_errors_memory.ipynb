{
 "cells": [
  {
   "cell_type": "markdown",
   "metadata": {},
   "source": [
    "# Goal: investigate error rate impact and detector performance for rays that only partly affect a patch.\n",
    "\n",
    "These results will be used to tune the detector sensitivity such that we can be\n",
    "confident that we will always detect a ray that has negative effects. We will\n",
    "then need to investigate the false positive rate of this detector."
   ]
  },
  {
   "cell_type": "code",
   "execution_count": 1,
   "metadata": {},
   "outputs": [],
   "source": [
    "import sys\n",
    "sys.path.append('..')\n",
    "\n",
    "import numpy as np\n",
    "import matplotlib.pyplot as plt\n",
    "import matplotlib as mpl\n",
    "import scipy\n",
    "import mpmath\n",
    "import dill as pickle\n",
    "\n",
    "from ray_delay.noise_model_patch import NoiseModelPatch\n",
    "from ray_delay.ray_detector import RayDetectorSpec, RayModelType\n",
    "from stim_surface_code.memory import MemoryPatch\n",
    "from stim_surface_code.patch import Qubit, DataQubit, MeasureQubit"
   ]
  },
  {
   "cell_type": "code",
   "execution_count": 2,
   "metadata": {},
   "outputs": [],
   "source": [
    "dx = 7\n",
    "dz = 7\n",
    "dm = 7\n",
    "\n",
    "patch = NoiseModelPatch(MemoryPatch(dx, dz, dm))\n",
    "patch.noise_model.save_error_vals = True"
   ]
  },
  {
   "cell_type": "code",
   "execution_count": 4,
   "metadata": {},
   "outputs": [],
   "source": [
    "ray_radius = 6"
   ]
  },
  {
   "cell_type": "code",
   "execution_count": 5,
   "metadata": {},
   "outputs": [],
   "source": [
    "syndrome_qubits = patch.patch.get_syndrome_qubits()"
   ]
  },
  {
   "cell_type": "code",
   "execution_count": null,
   "metadata": {},
   "outputs": [],
   "source": []
  }
 ],
 "metadata": {
  "kernelspec": {
   "display_name": "ray-delay-mG6OZh6y-py3.11",
   "language": "python",
   "name": "python3"
  },
  "language_info": {
   "codemirror_mode": {
    "name": "ipython",
    "version": 3
   },
   "file_extension": ".py",
   "mimetype": "text/x-python",
   "name": "python",
   "nbconvert_exporter": "python",
   "pygments_lexer": "ipython3",
   "version": "3.11.7"
  }
 },
 "nbformat": 4,
 "nbformat_minor": 2
}
