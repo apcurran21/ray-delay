{
 "cells": [
  {
   "cell_type": "code",
   "execution_count": 1,
   "metadata": {},
   "outputs": [],
   "source": [
    "import sys\n",
    "sys.path.append('../')\n",
    "from stim_surface_code.patch import SurfaceCodePatch\n",
    "from stim_surface_code.memory import MemoryPatch\n",
    "from ray_delay.device_simulator.noise_model_patch import NoiseModelPatch"
   ]
  },
  {
   "cell_type": "code",
   "execution_count": 2,
   "metadata": {},
   "outputs": [],
   "source": [
    "import qc_utils.qiskit_pulse.ibm_pulses as ibm_pulses"
   ]
  },
  {
   "cell_type": "code",
   "execution_count": 3,
   "metadata": {},
   "outputs": [],
   "source": [
    "from stim_surface_code import patch"
   ]
  },
  {
   "cell_type": "code",
   "execution_count": 2,
   "metadata": {},
   "outputs": [],
   "source": [
    "import ray_delay.device_simulator.noise_model as noise_model"
   ]
  },
  {
   "cell_type": "code",
   "execution_count": 4,
   "metadata": {},
   "outputs": [],
   "source": [
    "# options = {'ideal_init_and_meas': True}\n",
    "options = {}"
   ]
  },
  {
   "cell_type": "code",
   "execution_count": 5,
   "metadata": {},
   "outputs": [
    {
     "name": "stdout",
     "output_type": "stream",
     "text": [
      "(0.0106108, 10000000)\n",
      "(0.0155454, 10000000)\n"
     ]
    }
   ],
   "source": [
    "m = NoiseModelPatch(MemoryPatch(3,3,5))\n",
    "print(m.patch.count_logical_errors(observable_basis='X', **options))\n",
    "print(m.patch.count_logical_errors(observable_basis='Z', **options))"
   ]
  },
  {
   "cell_type": "code",
   "execution_count": 6,
   "metadata": {},
   "outputs": [
    {
     "name": "stdout",
     "output_type": "stream",
     "text": [
      "(0.0003978, 10000000)\n",
      "(0.0151109, 10000000)\n"
     ]
    }
   ],
   "source": [
    "m = NoiseModelPatch(MemoryPatch(3,5,5))\n",
    "print(m.patch.count_logical_errors(observable_basis='X', **options))\n",
    "print(m.patch.count_logical_errors(observable_basis='Z', **options))"
   ]
  },
  {
   "cell_type": "code",
   "execution_count": 7,
   "metadata": {},
   "outputs": [
    {
     "name": "stdout",
     "output_type": "stream",
     "text": [
      "(0.0138161, 10000000)\n",
      "(0.0003827, 10000000)\n"
     ]
    }
   ],
   "source": [
    "m = NoiseModelPatch(MemoryPatch(5,3,5))\n",
    "print(m.patch.count_logical_errors(observable_basis='X', **options))\n",
    "print(m.patch.count_logical_errors(observable_basis='Z', **options))"
   ]
  },
  {
   "cell_type": "code",
   "execution_count": 8,
   "metadata": {},
   "outputs": [
    {
     "name": "stdout",
     "output_type": "stream",
     "text": [
      "(0.0006717, 10000000)\n",
      "(0.0006231, 10000000)\n"
     ]
    }
   ],
   "source": [
    "m = NoiseModelPatch(MemoryPatch(5,5,5))\n",
    "print(m.patch.count_logical_errors(observable_basis='X', **options))\n",
    "print(m.patch.count_logical_errors(observable_basis='Z', **options))"
   ]
  },
  {
   "cell_type": "code",
   "execution_count": 9,
   "metadata": {},
   "outputs": [
    {
     "data": {
      "text/plain": [
       "--------------------------------------------------------\n",
       "|    |    |\u001b[0;34mX 15\u001b[1;37;0m|    |    |    |\u001b[0;34mX 16\u001b[1;37;0m|    |    |    |    |\n",
       "----------+----+--------------+----+--------------------\n",
       "|    |\u001b[1;37;48m   0\u001b[1;37;0m|    |\u001b[1;37;48m   1\u001b[1;37;0m|    |\u001b[1;37;48m   2\u001b[1;37;0m|    |\u001b[1;37;48m   3\u001b[1;37;0m|    |\u001b[1;37;48m   4\u001b[1;37;0m|    |\n",
       "----------+----+----+----+----+----+----+----+----+-----\n",
       "|    |    |\u001b[0;31mZ 17\u001b[1;37;0m|    |\u001b[0;34mX 18\u001b[1;37;0m|    |\u001b[0;31mZ 19\u001b[1;37;0m|    |\u001b[0;34mX 20\u001b[1;37;0m|    |\u001b[0;31mZ 21\u001b[1;37;0m|\n",
       "----------+----+----+----+----+----+----+----+----+-----\n",
       "|    |\u001b[1;37;48mL  5\u001b[1;37;0m|    |\u001b[1;37;48mL  6\u001b[1;37;0m|    |\u001b[1;37;48mL  7\u001b[1;37;0m|    |\u001b[1;37;48mL  8\u001b[1;37;0m|    |\u001b[1;37;48mL  9\u001b[1;37;0m|    |\n",
       "-----+----+----+----+----+----+----+----+----+----------\n",
       "|\u001b[0;31mZ 22\u001b[1;37;0m|    |\u001b[0;34mX 23\u001b[1;37;0m|    |\u001b[0;31mZ 24\u001b[1;37;0m|    |\u001b[0;34mX 25\u001b[1;37;0m|    |\u001b[0;31mZ 26\u001b[1;37;0m|    |    |\n",
       "-----+----+----+----+----+----+----+----+----+----------\n",
       "|    |\u001b[1;37;48m  10\u001b[1;37;0m|    |\u001b[1;37;48m  11\u001b[1;37;0m|    |\u001b[1;37;48m  12\u001b[1;37;0m|    |\u001b[1;37;48m  13\u001b[1;37;0m|    |\u001b[1;37;48m  14\u001b[1;37;0m|    |\n",
       "--------------------+----+--------------+----+----------\n",
       "|    |    |    |    |\u001b[0;34mX 27\u001b[1;37;0m|    |    |    |\u001b[0;34mX 28\u001b[1;37;0m|    |    |\n",
       "--------------------------------------------------------"
      ]
     },
     "execution_count": 9,
     "metadata": {},
     "output_type": "execute_result"
    }
   ],
   "source": [
    "m = NoiseModelPatch(MemoryPatch(3,5,5))\n",
    "m.patch"
   ]
  },
  {
   "cell_type": "code",
   "execution_count": null,
   "metadata": {},
   "outputs": [],
   "source": []
  }
 ],
 "metadata": {
  "kernelspec": {
   "display_name": "ray-delay-d6L5TIhe",
   "language": "python",
   "name": "python3"
  },
  "language_info": {
   "codemirror_mode": {
    "name": "ipython",
    "version": 3
   },
   "file_extension": ".py",
   "mimetype": "text/x-python",
   "name": "python",
   "nbconvert_exporter": "python",
   "pygments_lexer": "ipython3",
   "version": "3.11.7"
  }
 },
 "nbformat": 4,
 "nbformat_minor": 2
}
