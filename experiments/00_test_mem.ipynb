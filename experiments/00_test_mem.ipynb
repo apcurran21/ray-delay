{
 "cells": [
  {
   "cell_type": "markdown",
   "metadata": {},
   "source": [
    "# Goal: test Stim code for surface code memory experiment"
   ]
  },
  {
   "cell_type": "code",
   "execution_count": 1,
   "metadata": {},
   "outputs": [],
   "source": [
    "import sys\n",
    "sys.path.append('../')\n",
    "\n",
    "import numpy as np\n",
    "import sinter\n",
    "import matplotlib.pyplot as plt\n",
    "import copy\n",
    "\n",
    "from stim_surface_code.patch import SurfaceCodePatch\n",
    "from stim_surface_code.memory import MemoryPatch\n",
    "from ray_delay.noise_model_patch import NoiseModelPatch\n",
    "from ray_delay.noise_model import GoogleNoiseParamsNoRandomRays, get_T1T2_gate_err"
   ]
  },
  {
   "cell_type": "code",
   "execution_count": 2,
   "metadata": {},
   "outputs": [
    {
     "data": {
      "text/plain": [
       "{'T1': 2e-05,\n",
       " 'T2': 3e-05,\n",
       " 'gate1_err': 7.120212737438613e-05,\n",
       " 'gate2_err': 0.003979889401443166,\n",
       " 'readout_err': 0.005563204917891928}"
      ]
     },
     "execution_count": 2,
     "metadata": {},
     "output_type": "execute_result"
    }
   ],
   "source": [
    "GoogleNoiseParamsNoRandomRays.error_means"
   ]
  },
  {
   "cell_type": "code",
   "execution_count": 3,
   "metadata": {},
   "outputs": [
    {
     "data": {
      "text/plain": [
       "{'T1': 2e-06,\n",
       " 'T2': 5e-06,\n",
       " 'gate1_err': 4.450132960899133e-05,\n",
       " 'gate2_err': 0.0023879336408659,\n",
       " 'readout_err': 0.001390801229472982}"
      ]
     },
     "execution_count": 3,
     "metadata": {},
     "output_type": "execute_result"
    }
   ],
   "source": [
    "GoogleNoiseParamsNoRandomRays.error_stdevs"
   ]
  },
  {
   "cell_type": "code",
   "execution_count": 4,
   "metadata": {},
   "outputs": [],
   "source": [
    "# options = {'ideal_init_and_meas': True}\n",
    "options = {}"
   ]
  },
  {
   "cell_type": "code",
   "execution_count": 5,
   "metadata": {},
   "outputs": [
    {
     "name": "stdout",
     "output_type": "stream",
     "text": [
      "(0.0249985, 10000000)\n",
      "(0.041488, 10000000)\n"
     ]
    }
   ],
   "source": [
    "m = NoiseModelPatch(MemoryPatch(3,3,5))\n",
    "print(m.patch.count_logical_errors(observable_basis='X', **options))\n",
    "print(m.patch.count_logical_errors(observable_basis='Z', **options))"
   ]
  },
  {
   "cell_type": "code",
   "execution_count": 6,
   "metadata": {},
   "outputs": [
    {
     "name": "stdout",
     "output_type": "stream",
     "text": [
      "0.0002 8.837794085938211e-05\n"
     ]
    }
   ],
   "source": [
    "noise_params = GoogleNoiseParamsNoRandomRays.improve(10)\n",
    "\n",
    "noise_params_1 = copy.deepcopy(noise_params)\n",
    "noise_params_1.error_means['T1'] *= 1\n",
    "noise_params_1.error_stdevs['T1'] = 0\n",
    "\n",
    "m = NoiseModelPatch(MemoryPatch(3,3,5), noise_params_1)\n",
    "print(m.patch.error_vals['T1'][0], m.patch.total_gate1_err(0))"
   ]
  },
  {
   "cell_type": "code",
   "execution_count": 7,
   "metadata": {},
   "outputs": [
    {
     "name": "stdout",
     "output_type": "stream",
     "text": [
      "2e-05 0.0006341277921474655\n"
     ]
    }
   ],
   "source": [
    "noise_params = GoogleNoiseParamsNoRandomRays.improve(10)\n",
    "\n",
    "noise_params_1 = copy.deepcopy(noise_params)\n",
    "noise_params_1.error_means['T1'] *= 0.1\n",
    "noise_params_1.error_stdevs['T1'] = 0\n",
    "\n",
    "m = NoiseModelPatch(MemoryPatch(3,3,5), noise_params_1)\n",
    "print(m.patch.error_vals['T1'][0], m.patch.total_gate1_err(0))"
   ]
  },
  {
   "cell_type": "code",
   "execution_count": 8,
   "metadata": {},
   "outputs": [
    {
     "name": "stdout",
     "output_type": "stream",
     "text": [
      "2.0000000000000003e-06 0.006217951066656177\n"
     ]
    }
   ],
   "source": [
    "noise_params = GoogleNoiseParamsNoRandomRays.improve(10)\n",
    "\n",
    "noise_params_1 = copy.deepcopy(noise_params)\n",
    "noise_params_1.error_means['T1'] *= 0.01\n",
    "noise_params_1.error_stdevs['T1'] = 0\n",
    "\n",
    "m = NoiseModelPatch(MemoryPatch(3,3,5), noise_params_1)\n",
    "print(m.patch.error_vals['T1'][0], m.patch.total_gate1_err(0))"
   ]
  },
  {
   "cell_type": "code",
   "execution_count": 9,
   "metadata": {},
   "outputs": [
    {
     "name": "stdout",
     "output_type": "stream",
     "text": [
      "2.0000000000000002e-07 0.058761387921183586\n"
     ]
    }
   ],
   "source": [
    "noise_params = GoogleNoiseParamsNoRandomRays.improve(10)\n",
    "\n",
    "noise_params_1 = copy.deepcopy(noise_params)\n",
    "noise_params_1.error_means['T1'] *= 0.001\n",
    "noise_params_1.error_stdevs['T1'] = 0\n",
    "\n",
    "m = NoiseModelPatch(MemoryPatch(3,3,5), noise_params_1)\n",
    "print(m.patch.error_vals['T1'][0], m.patch.total_gate1_err(0))"
   ]
  },
  {
   "cell_type": "code",
   "execution_count": 10,
   "metadata": {},
   "outputs": [
    {
     "name": "stdout",
     "output_type": "stream",
     "text": [
      "(0.0003005, 10000000)\n",
      "(0.0818787, 10000000)\n"
     ]
    }
   ],
   "source": [
    "m = NoiseModelPatch(MemoryPatch(3,5,5))\n",
    "print(m.patch.count_logical_errors(observable_basis='X', **options))\n",
    "print(m.patch.count_logical_errors(observable_basis='Z', **options))"
   ]
  },
  {
   "cell_type": "code",
   "execution_count": 11,
   "metadata": {},
   "outputs": [
    {
     "name": "stdout",
     "output_type": "stream",
     "text": [
      "(0.0519767, 10000000)\n",
      "(0.0004463, 10000000)\n"
     ]
    }
   ],
   "source": [
    "m = NoiseModelPatch(MemoryPatch(5,3,5))\n",
    "print(m.patch.count_logical_errors(observable_basis='X', **options))\n",
    "print(m.patch.count_logical_errors(observable_basis='Z', **options))"
   ]
  },
  {
   "cell_type": "code",
   "execution_count": 12,
   "metadata": {},
   "outputs": [
    {
     "name": "stdout",
     "output_type": "stream",
     "text": [
      "(0.0006799, 10000000)\n",
      "(0.001127, 10000000)\n"
     ]
    }
   ],
   "source": [
    "m = NoiseModelPatch(MemoryPatch(5,5,5))\n",
    "print(m.patch.count_logical_errors(observable_basis='X', **options))\n",
    "print(m.patch.count_logical_errors(observable_basis='Z', **options))"
   ]
  },
  {
   "cell_type": "code",
   "execution_count": 13,
   "metadata": {},
   "outputs": [
    {
     "data": {
      "text/plain": [
       "--------------------------------------------------------\n",
       "|    |    |\u001b[0;34mX 15\u001b[1;37;0m|    |    |    |\u001b[0;34mX 16\u001b[1;37;0m|    |    |    |    |\n",
       "----------+----+--------------+----+--------------------\n",
       "|    |\u001b[1;37;48m   0\u001b[1;37;0m|    |\u001b[1;37;48m   1\u001b[1;37;0m|    |\u001b[1;37;48m   2\u001b[1;37;0m|    |\u001b[1;37;48m   3\u001b[1;37;0m|    |\u001b[1;37;48m   4\u001b[1;37;0m|    |\n",
       "----------+----+----+----+----+----+----+----+----+-----\n",
       "|    |    |\u001b[0;31mZ 17\u001b[1;37;0m|    |\u001b[0;34mX 18\u001b[1;37;0m|    |\u001b[0;31mZ 19\u001b[1;37;0m|    |\u001b[0;34mX 20\u001b[1;37;0m|    |\u001b[0;31mZ 21\u001b[1;37;0m|\n",
       "----------+----+----+----+----+----+----+----+----+-----\n",
       "|    |\u001b[1;37;48mL  5\u001b[1;37;0m|    |\u001b[1;37;48mL  6\u001b[1;37;0m|    |\u001b[1;37;48mL  7\u001b[1;37;0m|    |\u001b[1;37;48mL  8\u001b[1;37;0m|    |\u001b[1;37;48mL  9\u001b[1;37;0m|    |\n",
       "-----+----+----+----+----+----+----+----+----+----------\n",
       "|\u001b[0;31mZ 22\u001b[1;37;0m|    |\u001b[0;34mX 23\u001b[1;37;0m|    |\u001b[0;31mZ 24\u001b[1;37;0m|    |\u001b[0;34mX 25\u001b[1;37;0m|    |\u001b[0;31mZ 26\u001b[1;37;0m|    |    |\n",
       "-----+----+----+----+----+----+----+----+----+----------\n",
       "|    |\u001b[1;37;48m  10\u001b[1;37;0m|    |\u001b[1;37;48m  11\u001b[1;37;0m|    |\u001b[1;37;48m  12\u001b[1;37;0m|    |\u001b[1;37;48m  13\u001b[1;37;0m|    |\u001b[1;37;48m  14\u001b[1;37;0m|    |\n",
       "--------------------+----+--------------+----+----------\n",
       "|    |    |    |    |\u001b[0;34mX 27\u001b[1;37;0m|    |    |    |\u001b[0;34mX 28\u001b[1;37;0m|    |    |\n",
       "--------------------------------------------------------"
      ]
     },
     "execution_count": 13,
     "metadata": {},
     "output_type": "execute_result"
    }
   ],
   "source": [
    "m = NoiseModelPatch(MemoryPatch(3,5,5))\n",
    "m.patch"
   ]
  },
  {
   "cell_type": "code",
   "execution_count": 14,
   "metadata": {},
   "outputs": [],
   "source": [
    "import numpy as np"
   ]
  },
  {
   "cell_type": "code",
   "execution_count": 15,
   "metadata": {},
   "outputs": [],
   "source": [
    "tasks = []\n",
    "for improvement_factor in np.geomspace(100, 1, 7):\n",
    "    for d in [3,5,7,9]:\n",
    "        m = NoiseModelPatch(MemoryPatch(d, d, d), GoogleNoiseParamsNoRandomRays.improve(improvement_factor))\n",
    "        circ = m.patch.get_stim()\n",
    "        tasks.append(sinter.Task(circuit=circ, json_metadata={'f': improvement_factor, 'd': d}))"
   ]
  },
  {
   "cell_type": "code",
   "execution_count": 16,
   "metadata": {},
   "outputs": [],
   "source": [
    "samples = sinter.collect(\n",
    "    num_workers=6,\n",
    "    max_shots=1_000_000,\n",
    "    max_errors=500,\n",
    "    tasks=tasks,\n",
    "    decoders=['pymatching']\n",
    ")"
   ]
  },
  {
   "cell_type": "code",
   "execution_count": 17,
   "metadata": {},
   "outputs": [
    {
     "data": {
      "text/plain": [
       "<matplotlib.legend.Legend at 0x31ba2fa90>"
      ]
     },
     "execution_count": 17,
     "metadata": {},
     "output_type": "execute_result"
    },
    {
     "data": {
      "image/png": "[encoded data removed]",
      "text/plain": [
       "<Figure size 640x480 with 1 Axes>"
      ]
     },
     "metadata": {},
     "output_type": "display_data"
    }
   ],
   "source": [
    "fig, ax = plt.subplots(1, 1)\n",
    "sinter.plot_error_rate(\n",
    "    ax=ax,\n",
    "    stats=samples,\n",
    "    x_func=lambda stats: 1/stats.json_metadata['f'],\n",
    "    group_func=lambda stats: stats.json_metadata['d'],\n",
    ")\n",
    "ax.loglog()\n",
    "ax.legend()"
   ]
  },
  {
   "cell_type": "code",
   "execution_count": null,
   "metadata": {},
   "outputs": [],
   "source": []
  }
 ],
 "metadata": {
  "kernelspec": {
   "display_name": "ray-delay-d6L5TIhe",
   "language": "python",
   "name": "python3"
  },
  "language_info": {
   "codemirror_mode": {
    "name": "ipython",
    "version": 3
   },
   "file_extension": ".py",
   "mimetype": "text/x-python",
   "name": "python",
   "nbconvert_exporter": "python",
   "pygments_lexer": "ipython3",
   "version": "3.11.7"
  }
 },
 "nbformat": 4,
 "nbformat_minor": 2
}
