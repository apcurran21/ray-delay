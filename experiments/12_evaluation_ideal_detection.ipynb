{
 "cells": [
  {
   "cell_type": "code",
   "execution_count": 1,
   "metadata": {},
   "outputs": [],
   "source": [
    "import sys\n",
    "sys.path.append('../')\n",
    "\n",
    "import numpy as np\n",
    "from numpy.typing import NDArray\n",
    "import scipy\n",
    "from dataclasses import dataclass\n",
    "from typing import Callable\n",
    "import matplotlib.pyplot as plt\n",
    "import matplotlib as mpl\n",
    "import itertools\n",
    "import mpmath\n",
    "import dill\n",
    "import pickle\n",
    "import os\n",
    "import multiprocess as mp\n",
    "\n",
    "from ray_delay.ray_detector import RayDetectorSpec, RayImpactSimulator\n",
    "from stim_surface_code import patch, memory\n",
    "from ray_delay.factory_simulator import Redundant15To1\n",
    "from ray_delay.noise_model_patch import NoiseModelPatch\n",
    "from ray_delay.noise_model import RayModelType, CosmicRayParams\n",
    "\n",
    "import qc_utils.stats\n",
    "\n",
    "mpmath.mp.dps = 50"
   ]
  },
  {
   "cell_type": "code",
   "execution_count": 2,
   "metadata": {},
   "outputs": [
    {
     "name": "stdout",
     "output_type": "stream",
     "text": [
      "1.0917691579943236\n"
     ]
    }
   ],
   "source": [
    "dx = 7\n",
    "dz = 3\n",
    "dm = 3\n",
    "\n",
    "f = Redundant15To1(dx, dz, dm, cache_cycles_per_distillation=True, mapping_mode='remap')\n",
    "buffer_patch = memory.MemoryPatch(dx, dx, dm)\n",
    "qubit_overhead = 1 + len(buffer_patch.all_qubits) / f.num_phys_qubits\n",
    "print(qubit_overhead)"
   ]
  },
  {
   "cell_type": "code",
   "execution_count": 3,
   "metadata": {},
   "outputs": [],
   "source": [
    "def expected_qubitcycle_overhead(ray_rate, recovery_time, online_chance, online_overhead):\n",
    "    \"\"\"Calculate the expected qubitcycle overhead for a given ray rate, recovery\n",
    "    time, online chance, and online overhead. Assumes that more than one ray\n",
    "    impact will always result in the factory being offline.\n",
    "    \n",
    "    Args:\n",
    "        ray_rate: The rate of rays in Hz.\n",
    "        recovery_time: The time it takes to recover from a ray in seconds.\n",
    "        online_chance: The chance that the factory is online given a ray impact.\n",
    "        online_overhead: The expected qubitcycle overhead, given that a factory\n",
    "            is online, during a ray impact.\n",
    "    \n",
    "    Returns:\n",
    "        The expected qubitcycle overhead.\n",
    "    \"\"\"\n",
    "    prob_no_rays = scipy.stats.poisson.pmf(0, ray_rate*recovery_time)\n",
    "    prob_1_ray = scipy.stats.poisson.pmf(1, ray_rate*recovery_time)\n",
    "\n",
    "    # distillations per time, relative to no rays\n",
    "    ts_per_time_relative = prob_no_rays + prob_1_ray*online_chance/online_overhead\n",
    "    \n",
    "    return qubit_overhead * 1/ts_per_time_relative"
   ]
  },
  {
   "cell_type": "code",
   "execution_count": 6,
   "metadata": {},
   "outputs": [],
   "source": [
    "def get_ideal_detector_spec(radius, strength):\n",
    "    return RayDetectorSpec(\n",
    "        detector_spatial_window_size=None,\n",
    "        detector_temporal_window_size=None,\n",
    "        ray_params=CosmicRayParams(min_radius=radius, max_radius=radius, max_strength=strength),\n",
    "        ideal_detection=True,\n",
    "    )\n",
    "\n",
    "def calc_overhead_ideal_detection(factory, radius, strength):\n",
    "    spec = get_ideal_detector_spec(radius, strength)\n",
    "    return factory.calculate_avg_overhead_per_ray(spec, 1000, 1, 1e-7, save_cache=False)"
   ]
  },
  {
   "cell_type": "code",
   "execution_count": 21,
   "metadata": {},
   "outputs": [],
   "source": [
    "radii = np.linspace(2, 7, 20)\n",
    "strengths = np.linspace(0.9, 1.0, 24)\n",
    "\n",
    "factory = Redundant15To1(7, 3, 3, cache_cycles_per_distillation=True, mapping_mode='remap')\n",
    "assert len(factory._cycles_per_distillation_cache) > 0 # make sure cache loaded\n",
    "\n",
    "results = []\n",
    "\n",
    "with mp.Pool(6) as pool:\n",
    "    results = pool.starmap(calc_overhead_ideal_detection, [(factory, r, 0.99) for r in radii])"
   ]
  },
  {
   "cell_type": "code",
   "execution_count": 22,
   "metadata": {},
   "outputs": [],
   "source": [
    "overheads = np.array([r[0] for r in results])\n",
    "offline_rates = np.array([r[1] for r in results])\n",
    "\n",
    "with open('data/evaluation_direct_ideal.pkl', 'wb') as f:\n",
    "    dill.dump({\n",
    "        'radii': radii,\n",
    "        'overheads': overheads,\n",
    "        'offline_rates': offline_rates\n",
    "    }, f)\n"
   ]
  },
  {
   "cell_type": "code",
   "execution_count": 23,
   "metadata": {},
   "outputs": [
    {
     "name": "stdout",
     "output_type": "stream",
     "text": [
      "1.3278222602697765\n"
     ]
    }
   ],
   "source": [
    "no_remap_overhead = expected_qubitcycle_overhead(1/27/10*factory.num_phys_qubits, 50e-3, 0, 1)\n",
    "print(no_remap_overhead)\n",
    "net_overheads = np.zeros_like(overheads)\n",
    "for i,r in enumerate(radii):\n",
    "        net_overheads[i] = expected_qubitcycle_overhead(1/27/10*factory.num_phys_qubits, 50e-3, 1-offline_rates[i], overheads[i])"
   ]
  },
  {
   "cell_type": "code",
   "execution_count": 37,
   "metadata": {},
   "outputs": [
    {
     "data": {
      "image/png": "[encoded data removed]",
      "text/plain": [
       "<Figure size 640x480 with 1 Axes>"
      ]
     },
     "metadata": {},
     "output_type": "display_data"
    }
   ],
   "source": [
    "plt.plot(radii/2, net_overheads, 's-', label='Remap')\n",
    "plt.axhline(no_remap_overhead, color='C1', linestyle='--', label='No Remap')\n",
    "plt.axhline(1, color='k', linestyle='--', label='Baseline (no rays)')\n",
    "plt.ylim(-0.01, 2.0)\n",
    "plt.legend()\n",
    "plt.show()"
   ]
  },
  {
   "cell_type": "code",
   "execution_count": null,
   "metadata": {},
   "outputs": [],
   "source": []
  }
 ],
 "metadata": {
  "kernelspec": {
   "display_name": "ray-delay-mG6OZh6y-py3.11",
   "language": "python",
   "name": "python3"
  },
  "language_info": {
   "codemirror_mode": {
    "name": "ipython",
    "version": 3
   },
   "file_extension": ".py",
   "mimetype": "text/x-python",
   "name": "python",
   "nbconvert_exporter": "python",
   "pygments_lexer": "ipython3",
   "version": "3.11.7"
  }
 },
 "nbformat": 4,
 "nbformat_minor": 2
}
