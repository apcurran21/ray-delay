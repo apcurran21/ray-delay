{
 "cells": [
  {
   "cell_type": "code",
   "execution_count": 1,
   "metadata": {},
   "outputs": [],
   "source": [
    "import sys\n",
    "sys.path.append('..')\n",
    "\n",
    "from ray_delay.device_simulator.noise_model_patch import NoiseModelPatch\n",
    "from ray_delay.device_simulator.stim_simulator.memory import MemoryPatch"
   ]
  },
  {
   "cell_type": "code",
   "execution_count": 2,
   "metadata": {},
   "outputs": [],
   "source": [
    "patch = NoiseModelPatch(MemoryPatch(7))"
   ]
  },
  {
   "cell_type": "code",
   "execution_count": 3,
   "metadata": {},
   "outputs": [
    {
     "data": {
      "text/plain": [
       "(1.83e-05, 10000000)"
      ]
     },
     "execution_count": 3,
     "metadata": {},
     "output_type": "execute_result"
    }
   ],
   "source": [
    "patch.patch.count_logical_errors()"
   ]
  },
  {
   "cell_type": "code",
   "execution_count": 4,
   "metadata": {},
   "outputs": [
    {
     "ename": "AssertionError",
     "evalue": "",
     "output_type": "error",
     "traceback": [
      "\u001b[0;31m---------------------------------------------------------------------------\u001b[0m",
      "\u001b[0;31mAssertionError\u001b[0m                            Traceback (most recent call last)",
      "\u001b[1;32m/Users/jchad/projects/ray-delay/experiments/00_detecting_rays.ipynb Cell 4\u001b[0m line \u001b[0;36m1\n\u001b[0;32m----> <a href='vscode-notebook-cell:/Users/jchad/projects/ray-delay/experiments/00_detecting_rays.ipynb#W3sZmlsZQ%3D%3D?line=0'>1</a>\u001b[0m patch\u001b[39m.\u001b[39;49mnoise_model\u001b[39m.\u001b[39;49madd_cosmic_ray(\u001b[39m0\u001b[39;49m, \u001b[39m3\u001b[39;49m)\n\u001b[1;32m      <a href='vscode-notebook-cell:/Users/jchad/projects/ray-delay/experiments/00_detecting_rays.ipynb#W3sZmlsZQ%3D%3D?line=1'>2</a>\u001b[0m patch\u001b[39m.\u001b[39mnoise_model\u001b[39m.\u001b[39mstep(\u001b[39m0\u001b[39m)\n\u001b[1;32m      <a href='vscode-notebook-cell:/Users/jchad/projects/ray-delay/experiments/00_detecting_rays.ipynb#W3sZmlsZQ%3D%3D?line=3'>4</a>\u001b[0m patch\u001b[39m.\u001b[39mpatch\u001b[39m.\u001b[39mcount_logical_errors()\n",
      "File \u001b[0;32m~/projects/ray-delay/experiments/../ray_delay/device_simulator/noise_model.py:207\u001b[0m, in \u001b[0;36mNoiseModel.add_cosmic_ray\u001b[0;34m(self, center_qubit, radius)\u001b[0m\n\u001b[1;32m    196\u001b[0m \u001b[39mdef\u001b[39;00m \u001b[39madd_cosmic_ray\u001b[39m(\n\u001b[1;32m    197\u001b[0m         \u001b[39mself\u001b[39m,\n\u001b[1;32m    198\u001b[0m         center_qubit: \u001b[39mint\u001b[39m,\n\u001b[1;32m    199\u001b[0m         radius: \u001b[39mfloat\u001b[39m,\n\u001b[1;32m    200\u001b[0m     ) \u001b[39m-\u001b[39m\u001b[39m>\u001b[39m CosmicRay:\n\u001b[1;32m    201\u001b[0m \u001b[39m    \u001b[39m\u001b[39m\"\"\"Create a new cosmic ray and add it to the noise model.\u001b[39;00m\n\u001b[1;32m    202\u001b[0m \u001b[39m    \u001b[39;00m\n\u001b[1;32m    203\u001b[0m \u001b[39m    Args:\u001b[39;00m\n\u001b[1;32m    204\u001b[0m \u001b[39m        center_qubit: Center qubit of cosmic ray impact.\u001b[39;00m\n\u001b[1;32m    205\u001b[0m \u001b[39m        radius: Radius of cosmic ray (in terms of qubit spacing).\u001b[39;00m\n\u001b[1;32m    206\u001b[0m \u001b[39m    \"\"\"\u001b[39;00m\n\u001b[0;32m--> 207\u001b[0m     affected_qubits \u001b[39m=\u001b[39m \u001b[39mself\u001b[39;49m\u001b[39m.\u001b[39;49mget_qubits_in_radius(center_qubit, radius)\n\u001b[1;32m    208\u001b[0m     ray \u001b[39m=\u001b[39m CosmicRay(affected_qubits)\n\u001b[1;32m    209\u001b[0m     \u001b[39mself\u001b[39m\u001b[39m.\u001b[39mactive_cosmic_rays\u001b[39m.\u001b[39mappend(ray)\n",
      "File \u001b[0;32m~/projects/ray-delay/experiments/../ray_delay/device_simulator/noise_model.py:239\u001b[0m, in \u001b[0;36mNoiseModel.get_qubits_in_radius\u001b[0;34m(self, center_qubit, radius)\u001b[0m\n\u001b[1;32m    233\u001b[0m \u001b[39mif\u001b[39;00m (np\u001b[39m.\u001b[39msqrt(r_offset\u001b[39m*\u001b[39m\u001b[39m*\u001b[39m\u001b[39m2\u001b[39m \u001b[39m+\u001b[39m c_offset\u001b[39m*\u001b[39m\u001b[39m*\u001b[39m\u001b[39m2\u001b[39m) \u001b[39m<\u001b[39m radius\n\u001b[1;32m    234\u001b[0m     \u001b[39mand\u001b[39;00m coords[\u001b[39m0\u001b[39m]\u001b[39m+\u001b[39mr_offset \u001b[39m>\u001b[39m\u001b[39m=\u001b[39m \u001b[39m0\u001b[39m\n\u001b[1;32m    235\u001b[0m     \u001b[39mand\u001b[39;00m coords[\u001b[39m0\u001b[39m]\u001b[39m+\u001b[39mr_offset \u001b[39m<\u001b[39m \u001b[39mself\u001b[39m\u001b[39m.\u001b[39mqubit_layout\u001b[39m.\u001b[39mshape[\u001b[39m0\u001b[39m]\n\u001b[1;32m    236\u001b[0m     \u001b[39mand\u001b[39;00m coords[\u001b[39m1\u001b[39m]\u001b[39m+\u001b[39mc_offset \u001b[39m>\u001b[39m\u001b[39m=\u001b[39m \u001b[39m0\u001b[39m\n\u001b[1;32m    237\u001b[0m     \u001b[39mand\u001b[39;00m coords[\u001b[39m1\u001b[39m]\u001b[39m+\u001b[39mc_offset \u001b[39m<\u001b[39m \u001b[39mself\u001b[39m\u001b[39m.\u001b[39mqubit_layout\u001b[39m.\u001b[39mshape[\u001b[39m1\u001b[39m]):\n\u001b[1;32m    238\u001b[0m     qubit \u001b[39m=\u001b[39m \u001b[39mself\u001b[39m\u001b[39m.\u001b[39mqubit_layout[coords[\u001b[39m0\u001b[39m]\u001b[39m+\u001b[39mr_offset, coords[\u001b[39m1\u001b[39m]\u001b[39m+\u001b[39mc_offset]\n\u001b[0;32m--> 239\u001b[0m     \u001b[39massert\u001b[39;00m \u001b[39misinstance\u001b[39m(qubit, \u001b[39mint\u001b[39m)\n\u001b[1;32m    240\u001b[0m     \u001b[39mif\u001b[39;00m qubit \u001b[39m>\u001b[39m\u001b[39m=\u001b[39m \u001b[39m0\u001b[39m \u001b[39mand\u001b[39;00m qubit \u001b[39m!=\u001b[39m center_qubit:\n\u001b[1;32m    241\u001b[0m         qubits\u001b[39m.\u001b[39mappend(qubit)\n",
      "\u001b[0;31mAssertionError\u001b[0m: "
     ]
    }
   ],
   "source": [
    "patch.noise_model.add_cosmic_ray(0, 3)\n",
    "patch.noise_model.step(0)\n",
    "\n",
    "patch.patch.count_logical_errors()"
   ]
  },
  {
   "cell_type": "code",
   "execution_count": 11,
   "metadata": {},
   "outputs": [
    {
     "data": {
      "text/plain": [
       "False"
      ]
     },
     "execution_count": 11,
     "metadata": {},
     "output_type": "execute_result"
    }
   ],
   "source": [
    "isinstance(patch.noise_model.qubit_layout[0,0], int)"
   ]
  },
  {
   "cell_type": "code",
   "execution_count": 6,
   "metadata": {},
   "outputs": [
    {
     "data": {
      "text/plain": [
       "True"
      ]
     },
     "execution_count": 6,
     "metadata": {},
     "output_type": "execute_result"
    }
   ],
   "source": [
    "isinstance(1, int)"
   ]
  },
  {
   "cell_type": "code",
   "execution_count": null,
   "metadata": {},
   "outputs": [],
   "source": []
  }
 ],
 "metadata": {
  "kernelspec": {
   "display_name": "ray-delay-d6L5TIhe",
   "language": "python",
   "name": "python3"
  },
  "language_info": {
   "codemirror_mode": {
    "name": "ipython",
    "version": 3
   },
   "file_extension": ".py",
   "mimetype": "text/x-python",
   "name": "python",
   "nbconvert_exporter": "python",
   "pygments_lexer": "ipython3",
   "version": "3.10.11"
  }
 },
 "nbformat": 4,
 "nbformat_minor": 2
}
